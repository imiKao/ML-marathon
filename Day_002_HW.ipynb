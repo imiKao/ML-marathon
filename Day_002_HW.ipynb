{
 "cells": [
  {
   "cell_type": "markdown",
   "metadata": {},
   "source": [
    "## [作業目標]\n",
    "了解機器學習適合應用的領域與範疇。"
   ]
  },
  {
   "cell_type": "markdown",
   "metadata": {},
   "source": [
    "## [作業重點]\n",
    "透過瞭解機器學習的運作方式，找出非常適用機器學習應用的領域及其原因"
   ]
  },
  {
   "cell_type": "markdown",
   "metadata": {},
   "source": [
    "## 作業\n",
    "請找出一個你認為機器學習可以發光發熱的領域並闡述原因? "
   ]
  },
  {
   "cell_type": "markdown",
   "metadata": {},
   "source": [
    "### Answer\n",
    "- 傳統工廠的生產排程優化：目前在傳統工廠因為產線大多無法最佳化生產，故大多數有產能利用率偏低現象，且設備一旦出現問題需要維修或保養，大大降低生產排程問題，由於現行許多工廠仍然需要進行自動化設備更新才能針對設備的保養與維修進行優化，此部分需要較高成本，短期內比較難以更動。但如果可以以機器學習來針對現行如設備問題蒐集，或預測材料是否會延遲進貨，來協助生產的排程最佳化，應可解決大部分傳統工廠在面臨設備自動化所需投資較大成本前，緩解並認識到數據的重要性與可行性。"
   ]
  },
  {
   "cell_type": "code",
   "execution_count": null,
   "metadata": {},
   "outputs": [],
   "source": []
  }
 ],
 "metadata": {
  "kernelspec": {
   "display_name": "Python 3",
   "language": "python",
   "name": "python3"
  },
  "language_info": {
   "codemirror_mode": {
    "name": "ipython",
    "version": 3
   },
   "file_extension": ".py",
   "mimetype": "text/x-python",
   "name": "python",
   "nbconvert_exporter": "python",
   "pygments_lexer": "ipython3",
   "version": "3.8.5"
  }
 },
 "nbformat": 4,
 "nbformat_minor": 2
}
